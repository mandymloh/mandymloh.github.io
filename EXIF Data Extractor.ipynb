{
 "cells": [
  {
   "cell_type": "code",
   "execution_count": 22,
   "metadata": {},
   "outputs": [],
   "source": [
    "from PIL import Image\n",
    "from PIL.ExifTags import TAGS, GPSTAGS\n",
    "import xmltodict\n",
    "# from gps_conversion import exif_to_decimal, rdf_to_decimal"
   ]
  },
  {
   "cell_type": "code",
   "execution_count": 85,
   "metadata": {},
   "outputs": [],
   "source": [
    "image = Image.open(\"./static/images/Air_Fryer_Roast_Pork_Belly.jpg\")\n",
    "\n",
    "exif_data = image.getexif()"
   ]
  },
  {
   "cell_type": "code",
   "execution_count": 86,
   "metadata": {},
   "outputs": [],
   "source": [
    "exif_data = {TAGS.get(tag, tag): value \n",
    "                   for tag, value in image.getexif().items()}"
   ]
  },
  {
   "cell_type": "code",
   "execution_count": 87,
   "metadata": {},
   "outputs": [
    {
     "data": {
      "text/plain": [
       "{'ExifVersion': b'0231',\n",
       " 'ShutterSpeedValue': (8643856, 1000000),\n",
       " 'ApertureValue': (1695994, 1000000),\n",
       " 'DateTimeOriginal': '2021:03:05 22:32:14',\n",
       " 'DateTimeDigitized': '2021:03:05 22:32:14',\n",
       " 'ExposureBiasValue': (0, 10),\n",
       " 'MaxApertureValue': (434, 256),\n",
       " 'MeteringMode': 2,\n",
       " 'LightSource': 0,\n",
       " 'Flash': 8,\n",
       " 'FocalLength': (25, 1),\n",
       " 'ColorSpace': 1,\n",
       " 'WhiteBalance': 0,\n",
       " 'DigitalZoomRatio': (100, 100),\n",
       " 'FocalLengthIn35mmFilm': 50,\n",
       " 'SceneCaptureType': 0,\n",
       " 36880: '-08:00',\n",
       " 'Contrast': 0,\n",
       " 'Saturation': 0,\n",
       " 'Sharpness': 0,\n",
       " 'Model': 'E-M10 Mark III',\n",
       " 'ImageDescription': 'OLYMPUS DIGITAL CAMERA',\n",
       " 'Make': 'OLYMPUS CORPORATION',\n",
       " 'FileSource': b'\\x03',\n",
       " 'ExposureTime': (1, 400),\n",
       " 'XResolution': (240, 1),\n",
       " 'YResolution': (240, 1),\n",
       " 'FNumber': (18, 10),\n",
       " 'ExposureProgram': 1,\n",
       " 'CustomRendered': 0,\n",
       " 'ISOSpeedRatings': 640,\n",
       " 'ResolutionUnit': 2,\n",
       " 'ExposureMode': 1,\n",
       " 34864: 1,\n",
       " 'BodySerialNumber': 'BHYA44197',\n",
       " 'LensSpecification': ((25, 1), (25, 1), (18, 10), (18, 10)),\n",
       " 'Software': 'Adobe Lightroom 4.1 (Windows)',\n",
       " 'LensModel': 'OLYMPUS M.25mm F1.8',\n",
       " 'LensSerialNumber': '345208005',\n",
       " 'DateTime': '2021:03:07 23:39:16',\n",
       " 'GainControl': 2,\n",
       " 'ExifOffset': 248}"
      ]
     },
     "execution_count": 87,
     "metadata": {},
     "output_type": "execute_result"
    }
   ],
   "source": [
    "exif_data"
   ]
  },
  {
   "cell_type": "code",
   "execution_count": 88,
   "metadata": {},
   "outputs": [
    {
     "name": "stdout",
     "output_type": "stream",
     "text": [
      "f-number: 1.8\n",
      "aperature value: 1.695994\n",
      "shutter speed value: 8.643856\n",
      "lens: 25mm f1.8\n"
     ]
    }
   ],
   "source": [
    "print('f-number: ' + str(exif_data['FNumber'][0]/exif_data['FNumber'][1]))\n",
    "print('aperature value: ' + str(exif_data['ApertureValue'][0]/exif_data['ApertureValue'][1]))\n",
    "print('shutter speed value: ' + str(exif_data['ShutterSpeedValue'][0]/exif_data['ShutterSpeedValue'][1]))\n",
    "print('lens: ' + str(int(exif_data['LensSpecification'][0][0]/exif_data['LensSpecification'][0][1])) + 'mm f' + str(exif_data['LensSpecification'][2][0]/exif_data['LensSpecification'][2][1]))"
   ]
  },
  {
   "cell_type": "code",
   "execution_count": null,
   "metadata": {},
   "outputs": [],
   "source": []
  }
 ],
 "metadata": {
  "kernelspec": {
   "display_name": "Python 3",
   "language": "python",
   "name": "python3"
  },
  "language_info": {
   "codemirror_mode": {
    "name": "ipython",
    "version": 3
   },
   "file_extension": ".py",
   "mimetype": "text/x-python",
   "name": "python",
   "nbconvert_exporter": "python",
   "pygments_lexer": "ipython3",
   "version": "3.7.7"
  },
  "varInspector": {
   "cols": {
    "lenName": 16,
    "lenType": 16,
    "lenVar": 40
   },
   "kernels_config": {
    "python": {
     "delete_cmd_postfix": "",
     "delete_cmd_prefix": "del ",
     "library": "var_list.py",
     "varRefreshCmd": "print(var_dic_list())"
    },
    "r": {
     "delete_cmd_postfix": ") ",
     "delete_cmd_prefix": "rm(",
     "library": "var_list.r",
     "varRefreshCmd": "cat(var_dic_list()) "
    }
   },
   "types_to_exclude": [
    "module",
    "function",
    "builtin_function_or_method",
    "instance",
    "_Feature"
   ],
   "window_display": false
  }
 },
 "nbformat": 4,
 "nbformat_minor": 4
}
